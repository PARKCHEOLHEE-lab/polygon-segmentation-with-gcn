{
 "cells": [
  {
   "cell_type": "code",
   "execution_count": 1,
   "metadata": {},
   "outputs": [],
   "source": [
    "import os\n",
    "import sys\n",
    "\n",
    "root_directory = os.path.abspath(os.path.join(os.getcwd(), \"../../\"))\n",
    "if root_directory not in sys.path:\n",
    "    sys.path.append(root_directory)\n",
    "    \n",
    "from polygon_segmentation_with_gcn.src.config import DataConfiguration\n",
    "from polygon_segmentation_with_gcn.src.data_creator import DataCreator"
   ]
  },
  {
   "cell_type": "code",
   "execution_count": 2,
   "metadata": {},
   "outputs": [
    {
     "name": "stderr",
     "output_type": "stream",
     "text": [
      "100%|██████████| 19/19 [40:35<00:00, 128.20s/it]\n"
     ]
    }
   ],
   "source": [
    "\"\"\"Raw data creation\"\"\"\n",
    "\n",
    "data_creator = DataCreator(\n",
    "    shp_dir=DataConfiguration.SHP_PATH,\n",
    "    save_dir=DataConfiguration.SAVE_RAW_PATH,\n",
    "    is_debug_mode=False,\n",
    "    save_qa_image=True,\n",
    ")\n",
    "\n",
    "data_creator.create()"
   ]
  },
  {
   "cell_type": "code",
   "execution_count": null,
   "metadata": {},
   "outputs": [],
   "source": [
    "import os\n",
    "import sys\n",
    "import pandas as pd\n",
    "\n",
    "root_directory = os.path.abspath(os.path.join(os.getcwd(), \"../../\"))\n",
    "if root_directory not in sys.path:\n",
    "    sys.path.append(root_directory)\n",
    "    \n",
    "from polygon_segmentation_with_gcn.src.config import DataConfiguration\n",
    "\n",
    "irregulars = []\n",
    "regulars = []\n",
    "\n",
    "for raw_data_folder in os.listdir(DataConfiguration.SAVE_RAW_PATH):\n",
    "    raw_data_files = os.listdir(os.path.join(DataConfiguration.SAVE_RAW_PATH, raw_data_folder))\n",
    "    for raw_data_file in raw_data_files:\n",
    "        if not raw_data_file.endswith(\".pkl\"):\n",
    "            continue\n",
    "        \n",
    "        raw_data_file_path = os.path.join(DataConfiguration.SAVE_RAW_PATH, raw_data_folder, raw_data_file)\n",
    "        raw_dataframe = pd.read_pickle(raw_data_file_path)\n",
    "        \n",
    "        if raw_data_file.startswith(\"lands_gdf_irregular\"):\n",
    "            irregulars.append(raw_dataframe)\n",
    "        elif raw_data_file.startswith(\"lands_gdf_regular\"):\n",
    "            regulars.append(raw_dataframe)\n",
    "        else:\n",
    "            raise ValueError(f\"Invalid file name: {raw_data_file}\")\n",
    "        "
   ]
  },
  {
   "cell_type": "code",
   "execution_count": null,
   "metadata": {},
   "outputs": [],
   "source": [
    "from polygon_segmentation_with_gcn.src import commonutils\n",
    "\n",
    "commonutils.add_debugvisualizer(globals())\n",
    "os.makedirs(DataConfiguration.SAVE_PATH, exist_ok=True)\n",
    "\n",
    "# irregulars[0].name\n",
    "\n"
   ]
  }
 ],
 "metadata": {
  "kernelspec": {
   "display_name": "Python 3",
   "language": "python",
   "name": "python3"
  },
  "language_info": {
   "codemirror_mode": {
    "name": "ipython",
    "version": 3
   },
   "file_extension": ".py",
   "mimetype": "text/x-python",
   "name": "python",
   "nbconvert_exporter": "python",
   "pygments_lexer": "ipython3",
   "version": "3.10.12"
  }
 },
 "nbformat": 4,
 "nbformat_minor": 2
}
