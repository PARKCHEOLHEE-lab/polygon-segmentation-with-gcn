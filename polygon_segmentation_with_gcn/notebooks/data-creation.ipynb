{
 "cells": [
  {
   "cell_type": "code",
   "execution_count": 8,
   "metadata": {},
   "outputs": [],
   "source": [
    "import os\n",
    "import sys\n",
    "\n",
    "root_directory = os.path.abspath(os.path.join(os.getcwd(), \"../../\"))\n",
    "if root_directory not in sys.path:\n",
    "    sys.path.append(root_directory)\n",
    "    \n",
    "from polygon_segmentation_with_gcn.src.config import DataConfiguration\n",
    "from polygon_segmentation_with_gcn.src.data_creator import DataCreator"
   ]
  },
  {
   "cell_type": "code",
   "execution_count": null,
   "metadata": {},
   "outputs": [],
   "source": [
    "data_creator = DataCreator(\n",
    "    shp_dir=DataConfiguration.SHP_PATH,\n",
    "    save_dir=DataConfiguration.SAVE_RAW_PATH,\n",
    "    is_debug_mode=False,\n",
    "    save_qa_image=True,\n",
    ")\n",
    "\n",
    "data_creator.create()"
   ]
  }
 ],
 "metadata": {
  "kernelspec": {
   "display_name": "Python 3",
   "language": "python",
   "name": "python3"
  },
  "language_info": {
   "codemirror_mode": {
    "name": "ipython",
    "version": 3
   },
   "file_extension": ".py",
   "mimetype": "text/x-python",
   "name": "python",
   "nbconvert_exporter": "python",
   "pygments_lexer": "ipython3",
   "version": "3.10.12"
  }
 },
 "nbformat": 4,
 "nbformat_minor": 2
}
