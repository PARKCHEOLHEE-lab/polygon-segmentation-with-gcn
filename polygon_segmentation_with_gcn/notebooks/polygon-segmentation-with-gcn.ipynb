{
 "cells": [
  {
   "cell_type": "code",
   "execution_count": 1,
   "metadata": {},
   "outputs": [
    {
     "name": "stderr",
     "output_type": "stream",
     "text": [
      "/usr/local/lib/python3.10/dist-packages/tqdm/auto.py:21: TqdmWarning: IProgress not found. Please update jupyter and ipywidgets. See https://ipywidgets.readthedocs.io/en/stable/user_install.html\n",
      "  from .autonotebook import tqdm as notebook_tqdm\n",
      "2024-07-05 10:57:43,627\tINFO util.py:154 -- Missing packages: ['ipywidgets']. Run `pip install -U ipywidgets`, then restart the notebook server for rich notebook output.\n"
     ]
    }
   ],
   "source": [
    "import os\n",
    "import sys\n",
    "\n",
    "path = os.path.abspath(os.path.join(os.getcwd(), \"../\"))\n",
    "if path not in sys.path:\n",
    "    sys.path.append(path)\n",
    "    \n",
    "path = os.path.abspath(os.path.join(os.getcwd(), \"../../\"))\n",
    "if path not in sys.path:\n",
    "    sys.path.append(path)\n",
    "\n",
    "from polygon_segmentation_with_gcn.src.config import Configuration\n",
    "from polygon_segmentation_with_gcn.src.dataset import PolygonGraphDataset\n",
    "from polygon_segmentation_with_gcn.src.model import PolygonSegmenter, PolygonSegmenterTrainer"
   ]
  },
  {
   "cell_type": "code",
   "execution_count": 2,
   "metadata": {},
   "outputs": [
    {
     "name": "stdout",
     "output_type": "stream",
     "text": [
      "CUDA status\n",
      "  torch.cuda.is_available(): True\n",
      "  DEVICE: cuda \n",
      "\n",
      "Seeds status:\n",
      "  Seeds set for torch        : 777\n",
      "  Seeds set for torch on GPU : 777\n",
      "  Seeds set for numpy        : 777\n",
      "  Seeds set for random       : 777 \n",
      "\n",
      "The function __init__ took 23.09477162361145 seconds to run.\n",
      "The function __init__ took 24.25096297264099 seconds to run.\n",
      "Load pre-trained states from /workspaces/polygon-segmentation-with-gcn/polygon_segmentation_with_gcn/runs/2024-06-06_08-42-18/states/states.pth \n",
      "\n",
      "Set pre-trained all states from /workspaces/polygon-segmentation-with-gcn/polygon_segmentation_with_gcn/runs/2024-06-06_08-42-18/states/states.pth \n",
      "\n"
     ]
    }
   ],
   "source": [
    "Configuration.set_seed()\n",
    "\n",
    "dataset = PolygonGraphDataset()\n",
    "model = PolygonSegmenter(\n",
    "    conv_type=Configuration.GRAPHCONV,\n",
    "    in_channels=dataset.regular_polygons[0].x.shape[1],\n",
    "    hidden_channels=Configuration.HIDDEN_CHANNELS,\n",
    "    out_channels=Configuration.OUT_CHANNELS,\n",
    "    encoder_activation=Configuration.ENCODER_ACTIVATION.to(Configuration.DEVICE),\n",
    "    decoder_activation=Configuration.DECODER_ACTIVATION.to(Configuration.DEVICE),\n",
    "    predictor_activation=Configuration.PREDICTOR_ACTIVATION.to(Configuration.DEVICE),\n",
    "    use_skip_connection=Configuration.USE_SKIP_CONNECTION,\n",
    ")\n",
    "\n",
    "polygon_segmenter_trainer = PolygonSegmenterTrainer(\n",
    "    dataset=dataset,\n",
    "    model=model,\n",
    "    is_debug_mode=True,\n",
    "    pre_trained_path=os.path.abspath(os.path.join(\"../\", \"runs/2024-06-06_08-42-18\")),\n",
    "    log_geometric_loss=Configuration.LOG_GEOMETRIC_LOSS,\n",
    "    use_label_smoothing=Configuration.USE_LABEL_SMOOTHING,\n",
    ")\n",
    "\n",
    "polygon_segmenter_trainer.train()"
   ]
  },
  {
   "cell_type": "code",
   "execution_count": 4,
   "metadata": {},
   "outputs": [
    {
     "name": "stderr",
     "output_type": "stream",
     "text": [
      "Evaluating... epoch: None/500: 100%|██████████| 91/91 [00:09<00:00, 10.07it/s]\n"
     ]
    },
    {
     "name": "stdout",
     "output_type": "stream",
     "text": [
      "test status\n",
      "                Average Test Loss: 0.24723193917300676\n",
      "                Test Accuracy: 0.9925623536109924\n",
      "                Test F1 Score: 0.9853010773658752\n",
      "                Test AUROC: 0.9940818548202515\n",
      "                Test Recall: 0.9971209168434143\n",
      "            \n"
     ]
    }
   ],
   "source": [
    "polygon_segmenter_trainer.test(seed=1111, test_name=\"test_1111\")"
   ]
  },
  {
   "cell_type": "markdown",
   "metadata": {},
   "source": [
    "![image.png](../assets/test.png)"
   ]
  }
 ],
 "metadata": {
  "kernelspec": {
   "display_name": "Python 3",
   "language": "python",
   "name": "python3"
  },
  "language_info": {
   "codemirror_mode": {
    "name": "ipython",
    "version": 3
   },
   "file_extension": ".py",
   "mimetype": "text/x-python",
   "name": "python",
   "nbconvert_exporter": "python",
   "pygments_lexer": "ipython3",
   "version": "3.10.12"
  }
 },
 "nbformat": 4,
 "nbformat_minor": 2
}
