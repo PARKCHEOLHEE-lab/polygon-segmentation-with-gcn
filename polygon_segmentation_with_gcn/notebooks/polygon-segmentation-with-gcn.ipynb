{
 "cells": [
  {
   "cell_type": "code",
   "execution_count": 1,
   "metadata": {},
   "outputs": [
    {
     "name": "stderr",
     "output_type": "stream",
     "text": [
      "/usr/local/lib/python3.10/dist-packages/tqdm/auto.py:21: TqdmWarning: IProgress not found. Please update jupyter and ipywidgets. See https://ipywidgets.readthedocs.io/en/stable/user_install.html\n",
      "  from .autonotebook import tqdm as notebook_tqdm\n",
      "2024-06-10 08:59:47,334\tINFO util.py:154 -- Missing packages: ['ipywidgets']. Run `pip install -U ipywidgets`, then restart the notebook server for rich notebook output.\n"
     ]
    }
   ],
   "source": [
    "import os\n",
    "import sys\n",
    "\n",
    "path = os.path.abspath(os.path.join(os.getcwd(), \"../\"))\n",
    "if path not in sys.path:\n",
    "    sys.path.append(path)\n",
    "    \n",
    "path = os.path.abspath(os.path.join(os.getcwd(), \"../../\"))\n",
    "if path not in sys.path:\n",
    "    sys.path.append(path)\n",
    "\n",
    "from polygon_segmentation_with_gcn.src.config import Configuration\n",
    "from polygon_segmentation_with_gcn.src.dataset import PolygonGraphDataset\n",
    "from polygon_segmentation_with_gcn.src.model import PolygonSegmenter, PolygonSegmenterTrainer"
   ]
  },
  {
   "cell_type": "code",
   "execution_count": 67,
   "metadata": {},
   "outputs": [],
   "source": [
    "Configuration.set_seed()\n",
    "\n",
    "dataset = PolygonGraphDataset()\n",
    "model = PolygonSegmenter(\n",
    "    conv_type=Configuration.GRAPHCONV,\n",
    "    in_channels=dataset.regular_polygons[0].x.shape[1],\n",
    "    hidden_channels=Configuration.HIDDEN_CHANNELS,\n",
    "    out_channels=Configuration.OUT_CHANNELS,\n",
    "    encoder_activation=Configuration.ENCODER_ACTIVATION.to(Configuration.DEVICE),\n",
    "    decoder_activation=Configuration.DECODER_ACTIVATION.to(Configuration.DEVICE),\n",
    "    predictor_activation=Configuration.PREDICTOR_ACTIVATION.to(Configuration.DEVICE),\n",
    "    use_skip_connection=Configuration.USE_SKIP_CONNECTION,\n",
    ")\n",
    "\n",
    "polygon_segmenter_trainer = PolygonSegmenterTrainer(\n",
    "    dataset=dataset,\n",
    "    model=model,\n",
    "    is_debug_mode=True,\n",
    "    pre_trained_path=None,\n",
    "    use_geometric_loss=Configuration.USE_GEOMETRIC_LOSS,\n",
    "    use_label_smoothing=Configuration.USE_LABEL_SMOOTHING,\n",
    ")\n",
    "\n",
    "polygon_segmenter_trainer.train()"
   ]
  },
  {
   "cell_type": "code",
   "execution_count": null,
   "metadata": {},
   "outputs": [],
   "source": [
    "polygon_segmenter_trainer.test()"
   ]
  }
 ],
 "metadata": {
  "kernelspec": {
   "display_name": "Python 3",
   "language": "python",
   "name": "python3"
  },
  "language_info": {
   "codemirror_mode": {
    "name": "ipython",
    "version": 3
   },
   "file_extension": ".py",
   "mimetype": "text/x-python",
   "name": "python",
   "nbconvert_exporter": "python",
   "pygments_lexer": "ipython3",
   "version": "3.10.12"
  }
 },
 "nbformat": 4,
 "nbformat_minor": 2
}
