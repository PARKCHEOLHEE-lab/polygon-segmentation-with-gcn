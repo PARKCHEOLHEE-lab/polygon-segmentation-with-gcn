{
 "cells": [
  {
   "cell_type": "code",
   "execution_count": 1,
   "metadata": {},
   "outputs": [],
   "source": [
    "import os\n",
    "import sys\n",
    "\n",
    "path = os.path.abspath(os.path.join(os.getcwd(), \"../\"))\n",
    "if path not in sys.path:\n",
    "    sys.path.append(path)\n",
    "    \n",
    "path = os.path.abspath(os.path.join(os.getcwd(), \"../../\"))\n",
    "if path not in sys.path:\n",
    "    sys.path.append(path)"
   ]
  },
  {
   "cell_type": "code",
   "execution_count": 2,
   "metadata": {},
   "outputs": [],
   "source": [
    "import shapely.ops\n",
    "import numpy as np\n",
    "import shapely.affinity\n",
    "\n",
    "from typing import List, Tuple\n",
    "from src import commonutils\n",
    "from src.config import Configuration\n",
    "from src.data_creator import DataCreatorHelper\n",
    "from shapely.geometry import Point, MultiPoint, Polygon, LineString, CAP_STYLE\n",
    "\n",
    "\n",
    "def _get_random_coordinates(\n",
    "    vertices_count_min: int, vertices_count_max: int, scale_factor: float = 1.0\n",
    ") -> np.ndarray:\n",
    "    \"\"\"Generate non-intersected polygon randomly\n",
    "\n",
    "    Args:\n",
    "        vertices_count_min (int): random vertices count minimum value\n",
    "        vertices_count_max (int): random vertices count maximum value\n",
    "        scale_factor (float, optional): constant to scale. Defaults to 1.0.\n",
    "\n",
    "    Returns:\n",
    "        np.ndarray: random coordinates\n",
    "    \"\"\"\n",
    "\n",
    "    vertices_count = np.random.randint(vertices_count_min, vertices_count_max)\n",
    "    vertices = np.random.rand(vertices_count, 2)\n",
    "    vertices_centroid = np.mean(vertices, axis=0)\n",
    "\n",
    "    coordinates = sorted(vertices, key=lambda p, c=vertices_centroid: np.arctan2(p[1] - c[1], p[0] - c[0]))\n",
    "\n",
    "    coordinates = np.array(coordinates)\n",
    "    coordinates[:, 0] *= scale_factor\n",
    "    coordinates[:, 1] *= scale_factor\n",
    "\n",
    "    return coordinates\n",
    "\n",
    "p_ = Polygon(_get_random_coordinates(100, 200)).convex_hull\n",
    "p = DataCreatorHelper.simplify_polygon(\n",
    "    polygon=p_,\n",
    "    tolerance_degree=1\n",
    ")\n",
    "\n",
    "p_ = Polygon(_get_random_coordinates(5, 20))\n",
    "p = DataCreatorHelper.simplify_polygon(\n",
    "    polygon=p_,\n",
    "    tolerance_degree=1\n",
    ")\n"
   ]
  },
  {
   "cell_type": "code",
   "execution_count": 3,
   "metadata": {},
   "outputs": [
    {
     "data": {
      "text/plain": [
       "([<POLYGON ((0.03 0.672, 0.353 0.408, 0.355 0.908, 0.03 0.672))>,\n",
       "  <POLYGON ((0.03 0.672, 0.355 0.908, 0.114 0.895, 0.03 0.672))>,\n",
       "  <POLYGON ((0.355 0.908, 0.353 0.408, 0.515 0.885, 0.355 0.908))>,\n",
       "  <POLYGON ((0.515 0.885, 0.353 0.408, 0.6 0.372, 0.515 0.885))>,\n",
       "  <POLYGON ((0.515 0.885, 0.6 0.372, 0.711 0.847, 0.515 0.885))>,\n",
       "  <POLYGON ((0.711 0.847, 0.6 0.372, 0.94 0.669, 0.711 0.847))>,\n",
       "  <POLYGON ((0.19 0.208, 0.159 0.108, 0.326 0.085, 0.19 0.208))>,\n",
       "  <POLYGON ((0.19 0.208, 0.326 0.085, 0.353 0.408, 0.19 0.208))>,\n",
       "  <POLYGON ((0.353 0.408, 0.326 0.085, 0.632 0.179, 0.353 0.408))>,\n",
       "  <POLYGON ((0.353 0.408, 0.632 0.179, 0.6 0.372, 0.353 0.408))>,\n",
       "  <POLYGON ((0.6 0.372, 0.976 0.523, 0.94 0.669, 0.6 0.372))>,\n",
       "  <POLYGON ((0.646 0.097, 0.632 0.179, 0.326 0.085, 0.646 0.097))>],\n",
       " [<LINESTRING (0.353 0.408, 0.355 0.908)>,\n",
       "  <LINESTRING (0.355 0.908, 0.03 0.672)>,\n",
       "  <LINESTRING (0.353 0.408, 0.515 0.885)>,\n",
       "  <LINESTRING (0.353 0.408, 0.6 0.372)>,\n",
       "  <LINESTRING (0.6 0.372, 0.515 0.885)>,\n",
       "  <LINESTRING (0.6 0.372, 0.711 0.847)>,\n",
       "  <LINESTRING (0.711 0.847, 0.515 0.885)>,\n",
       "  <LINESTRING (0.6 0.372, 0.94 0.669)>,\n",
       "  <LINESTRING (0.94 0.669, 0.711 0.847)>,\n",
       "  <LINESTRING (0.19 0.208, 0.159 0.108)>,\n",
       "  <LINESTRING (0.326 0.085, 0.19 0.208)>,\n",
       "  <LINESTRING (0.326 0.085, 0.353 0.408)>,\n",
       "  <LINESTRING (0.326 0.085, 0.632 0.179)>,\n",
       "  <LINESTRING (0.632 0.179, 0.353 0.408)>])"
      ]
     },
     "execution_count": 3,
     "metadata": {},
     "output_type": "execute_result"
    }
   ],
   "source": [
    "import importlib\n",
    "\n",
    "from src import data_creator\n",
    "\n",
    "\n",
    "importlib.reload(data_creator)\n",
    "\n",
    "data_creator.DataCreatorHelper.triangulate_polygon(polygon=p, simplification_factor=10, segment_threshold_length=0.5)\n"
   ]
  },
  {
   "cell_type": "code",
   "execution_count": 67,
   "metadata": {},
   "outputs": [],
   "source": [
    "\n"
   ]
  }
 ],
 "metadata": {
  "kernelspec": {
   "display_name": "Python 3",
   "language": "python",
   "name": "python3"
  },
  "language_info": {
   "codemirror_mode": {
    "name": "ipython",
    "version": 3
   },
   "file_extension": ".py",
   "mimetype": "text/x-python",
   "name": "python",
   "nbconvert_exporter": "python",
   "pygments_lexer": "ipython3",
   "version": "3.10.12"
  }
 },
 "nbformat": 4,
 "nbformat_minor": 2
}
